{
 "cells": [
  {
   "cell_type": "markdown",
   "id": "european-theory",
   "metadata": {},
   "source": [
    "# Convolution"
   ]
  },
  {
   "cell_type": "markdown",
   "id": "pretty-madison",
   "metadata": {},
   "source": [
    "In the last few years, CNNs have become popular in the areas of image recognition, object detection, segmentation, and many other tasks in the field of computer vision. They are also becoming popular in the field of **natural language processing (NLP)**.\n",
    "\n",
    "The fundamental difference between fully connected layers and convolution layers is the way the weights are connected to each other in the intermediate layers.\n",
    "\n",
    "One of the biggest challenges of using a linear layer or fully connected layers for computer vision is that they lose all spatial information, and the complexity in terms of the number of weights used by fully connected layers is too big. For example, when we represent a $224\\times 224$ color image as a flat array, we would end up with $150 528$-dimensional feature vector ($224 \\times 224 \\times 3$). When the image is flattened, we lose all the spatial information.\n",
    "\n",
    "There is a better way! It consists in replacing the dense, fully-connected affine transformation in our neural network unit with a different linear operation: **convolution**."
   ]
  },
  {
   "cell_type": "markdown",
   "id": "premier-conspiracy",
   "metadata": {},
   "source": [
    "### Why would you use a convolution?\n",
    "\n",
    "Convolutions are very common operations. Here are some image processing examples:\n",
    "\n",
    "* **Edge Detection:** can detect edges by convolving with edge masks (e.g., the Sobel edge detectors)\n",
    "\n",
    "$$S_v = \\left[\\begin{array}{ccc}\n",
    "-1 & 0 & 1\\\\\n",
    "-2 & 0 & 2\\\\\n",
    "-1 & 0 & 1\n",
    "\\end{array}\\right]$$\n",
    "\n",
    "$$S_h = \\left[\\begin{array}{ccc}\n",
    "-1 & -2 & -1\\\\\n",
    "0 & 0 & 0\\\\\n",
    "1 & 2 & 1\n",
    "\\end{array}\\right]$$\n",
    "\n",
    "The vertical and horizontal Sobel edge masks.\n",
    "\n",
    "* **Image Smoothing:** can smooth/blur images using a mean filter.\n",
    "\n",
    "* **Unsharp Masking:** can sharpen imagery by subtracting a mean filtered image from the original.\n",
    "\n",
    "* and many more..."
   ]
  },
  {
   "cell_type": "markdown",
   "id": "seeing-librarian",
   "metadata": {},
   "source": [
    "* So, various convolutions have the ability to enhance and extract features of interest.\n",
    "\n",
    "* The idea behind a convolutional neural network is to learn the features needed to perform classification (or regression) during the learning process for the neural network. This is in contrast with approaches in which you first identify features of importance, extract them in advance, and then train a classifier (e.g., a neural network) on the extracted features.\n",
    "\n",
    "We would like these localized patterns to have an effect on the output no matter their location in the image, i.e. to be **translation-invariant**. \n",
    "\n",
    "To do that, we would need to force the weights in each per-output-pixel family of patterns to have same values, regardless of pixel location. To achieve this goal, we would need to initialize all weight matrices in a family with the same values, and, during back-propagation, average the gradients for all pixel locations and apply that average as the update to all weights in the family.\n",
    "\n",
    "For this reason, CNNs are often called **shared weight neural networks**. This is because several connections in the network are tied together to have the same value.\n",
    "\n",
    "**CNNs can have much fewer parameters than fully connected layers**"
   ]
  },
  {
   "cell_type": "markdown",
   "id": "demonstrated-ecuador",
   "metadata": {},
   "source": [
    "Consider a 2-D convolution (used, for example, in image processing):\n",
    "\n",
    "$$g(x,y) \\ast f(x,y) = \\sum_{s=-a}^a \\sum_{t=-b}^b g(s,t) f(x-s, y-t)$$\n",
    "\n",
    "where $g$ is the filter and $f$ is the image to be convolved. Essentially, we flip both horizontally and vertically and, then, slide $g$ accross $f$ where at each location we perform a pointwise multiplication and then a sum.\n",
    "\n",
    "To understand better how are we exactly creating a neural network that extracts features using convolution operations, we need to first consider that a convolutional can be written as a *linear operation* with a **doubly block circulant matrix**.\n",
    "\n",
    "$$H(x,y) = F(x,y) \\ast g(x,y)$$\n",
    "\n",
    "is the same as\n",
    "\n",
    "$$h = Gf$$\n",
    "\n",
    "where $f$ and $h$ are the vectorized forms of $F$ and $G$ is a doubly block circulant matrix.\n",
    "\n",
    "Consider the following small image:\n",
    "\n",
    "$$Im = \\left[\\begin{array}{cccc}\n",
    "1 & 2 & 3 & 4\\\\\n",
    "5 & 6 & 7 & 8\\\\\n",
    "9 & 10 & 11 & 12\\\\\n",
    "13 & 14 & 15 & 16\n",
    "\\end{array}\\right]$$\n",
    "\n",
    "We can vectorize it and obtain:\n",
    "\n",
    "$$I^T = [1,2,3,\\dots, 14,15,16]$$\n",
    "\n",
    "Let's consider the following kernel:\n",
    "\n",
    "$$k = \\left[\\begin{array}{ccc}\n",
    "-1 & -2 & -3\\\\\n",
    "-4 & -5 & -6\\\\\n",
    "-7 & -8 & -9\n",
    "\\end{array}\\right]$$\n",
    "\n",
    "Let $G$ be:\n",
    "\n",
    "$$G = \\left[\\begin{array}{cccccccccccccccc}\n",
    "-1 & -2 & -3 & 0 & -4 & -5 & -6 & 0 & -7 & -8 & -9 & 0 & 0 & 0 & 0 & 0\\\\\n",
    "0 & -1 & -2 & -3 & 0 & -4 & -5 & -6 & 0 & -7 & -8 & -9 & 0 & 0 & 0 & 0 \\\\\n",
    "0 & 0 & 0 & 0 & -1 & -2 & -3 & 0 & -4 & -5 & -6 & 0 & -7 & -8 & -9 & 0\\\\\n",
    "0 & 0 & 0 & 0 & 0 & -1 & -2 & -3 & 0 & -4 & -5 & -6 & 0 & -7 & -8 & -9\\\\\n",
    "\\end{array}\\right]$$\n",
    "\n",
    "So, we can write the convolution as the matrix multiplication:\n",
    "\n",
    "$$GI$$"
   ]
  },
  {
   "cell_type": "markdown",
   "id": "sized-collectible",
   "metadata": {},
   "source": [
    "### Kernel/Filter Sizes\n",
    "\n",
    "Small kernels, like $3 \\times 3$ or $5 \\times 5$ provide very local information. The problem is that we can not assume all structures in our images are 3 pixels or 5 pixels wide.\n",
    "\n",
    "In order to identify larger objects in an image we will need large convolution kernels. Well, sure, at the limit we could get a\n",
    "$32 \\times 32$ kernel for a $32 \\times 32$ image, but we would converge to the old fully connected, affine transformation and lose all the nice properties of convolution. \n",
    "\n",
    "Another option, which is what is used in convolutional neural networks, is stacking one convolution after the other, and at the same time downsampling the image in-between successive convolutions.\n",
    "\n",
    "So, on one hand, the first set of kernels operates on small neighborhoods on first-order, low-level features, while the second set of kernels effectively operates on wider neighborhoods, producing features that are compositions of the previous features. This is a very powerful mechanism that provides convolutional neural networks with the ability to see into very complex scenes"
   ]
  },
  {
   "cell_type": "markdown",
   "id": "equal-civilian",
   "metadata": {},
   "source": [
    "### Pooling Layers & Strides\n",
    "\n",
    "Downsampling could in principle occur in different ways. Scaling an image by a half is the equivalent of taking 4 neighboring pixels in input and producing one pixel in output. How we compute the value of the output based on the values of the input is up to us. We could:\n",
    "\n",
    "* **Average-pooling**: average the four pixels. This was a common approach early on, but has since fallen out of favor somewhat.\n",
    "* **Max-pooling**: take the maximum of the four pixels. This is currently the most commonly used approach, but has a downside of discarding the other 3/4ths of the data.\n",
    "* **Stride**: perform a strided convolution, where only every Nth pixel is calculated. A 3x4 convolution with stride 2 still incorporates input from all pixels from the previous layer. Current literature shows promise for this approach, but it has not yet supplanted maxpool."
   ]
  },
  {
   "cell_type": "code",
   "execution_count": 43,
   "id": "level-labor",
   "metadata": {},
   "outputs": [],
   "source": [
    "import tensorflow.keras as tk\n",
    "import numpy as np\n",
    "import matplotlib.pyplot as plt\n",
    "%matplotlib inline"
   ]
  },
  {
   "cell_type": "code",
   "execution_count": 44,
   "id": "alert-wireless",
   "metadata": {},
   "outputs": [
    {
     "name": "stdout",
     "output_type": "stream",
     "text": [
      "Model: \"sequential_26\"\n",
      "_________________________________________________________________\n",
      "Layer (type)                 Output Shape              Param #   \n",
      "=================================================================\n",
      "conv2d_37 (Conv2D)           (None, 26, 26, 32)        320       \n",
      "_________________________________________________________________\n",
      "batch_normalization_30 (Batc (None, 26, 26, 32)        128       \n",
      "_________________________________________________________________\n",
      "max_pooling2d_28 (MaxPooling (None, 13, 13, 32)        0         \n",
      "_________________________________________________________________\n",
      "conv2d_38 (Conv2D)           (None, 13, 13, 32)        9248      \n",
      "_________________________________________________________________\n",
      "batch_normalization_31 (Batc (None, 13, 13, 32)        128       \n",
      "_________________________________________________________________\n",
      "dropout_30 (Dropout)         (None, 13, 13, 32)        0         \n",
      "_________________________________________________________________\n",
      "conv2d_39 (Conv2D)           (None, 13, 13, 16)        4624      \n",
      "_________________________________________________________________\n",
      "max_pooling2d_29 (MaxPooling (None, 6, 6, 16)          0         \n",
      "_________________________________________________________________\n",
      "dropout_31 (Dropout)         (None, 6, 6, 16)          0         \n",
      "_________________________________________________________________\n",
      "flatten_25 (Flatten)         (None, 576)               0         \n",
      "_________________________________________________________________\n",
      "dense_51 (Dense)             (None, 128)               73856     \n",
      "_________________________________________________________________\n",
      "batch_normalization_32 (Batc (None, 128)               512       \n",
      "_________________________________________________________________\n",
      "dropout_32 (Dropout)         (None, 128)               0         \n",
      "_________________________________________________________________\n",
      "dense_52 (Dense)             (None, 10)                1290      \n",
      "=================================================================\n",
      "Total params: 90,106\n",
      "Trainable params: 89,722\n",
      "Non-trainable params: 384\n",
      "_________________________________________________________________\n"
     ]
    }
   ],
   "source": [
    "model = tk.Sequential()\n",
    "\n",
    "model.add(tk.layers.Conv2D(32,(3,3),activation='relu',input_shape=(28,28,1)))\n",
    "model.add(tk.layers.BatchNormalization())\n",
    "model.add(tk.layers.MaxPooling2D((2, 2)))\n",
    "\n",
    "model.add(tk.layers.Conv2D(filters=32, kernel_size=(3, 3), activation='relu', strides=1, padding='same'))\n",
    "model.add(tk.layers.BatchNormalization())\n",
    "model.add(tk.layers.Dropout(0.25))\n",
    "\n",
    "model.add(tk.layers.Conv2D(filters=16, kernel_size=(3, 3), activation='relu', strides=1, padding='same'))\n",
    "model.add(tk.layers.MaxPooling2D(pool_size=(2, 2)))\n",
    "model.add(tk.layers.Dropout(0.25))\n",
    "                                 \n",
    "model.add(tk.layers.Flatten())\n",
    "                                 \n",
    "model.add(tk.layers.Dense(128, activation='relu'))\n",
    "model.add(tk.layers.BatchNormalization())\n",
    "model.add(tk.layers.Dropout(0.5))\n",
    "                                 \n",
    "model.add(tk.layers.Dense(10, activation='softmax'))\n",
    "\n",
    "model.summary()"
   ]
  },
  {
   "cell_type": "code",
   "execution_count": 45,
   "id": "serial-advocate",
   "metadata": {},
   "outputs": [
    {
     "name": "stdout",
     "output_type": "stream",
     "text": [
      "Model: \"sequential_27\"\n",
      "_________________________________________________________________\n",
      "Layer (type)                 Output Shape              Param #   \n",
      "=================================================================\n",
      "flatten_26 (Flatten)         (None, 784)               0         \n",
      "_________________________________________________________________\n",
      "dense_53 (Dense)             (None, 128)               100480    \n",
      "_________________________________________________________________\n",
      "dense_54 (Dense)             (None, 10)                1290      \n",
      "=================================================================\n",
      "Total params: 101,770\n",
      "Trainable params: 101,770\n",
      "Non-trainable params: 0\n",
      "_________________________________________________________________\n"
     ]
    }
   ],
   "source": [
    "dense_model = tk.models.Sequential(\n",
    "    [\n",
    "        tk.layers.Flatten(input_shape=(28,28,1)), \n",
    "        tk.layers.Dense(128, activation='relu'), # alternatively you could use activation=tf.nn.relu\n",
    "        tk.layers.Dense(10, activation='softmax')\n",
    "    ])\n",
    "dense_model.summary()"
   ]
  },
  {
   "cell_type": "code",
   "execution_count": 46,
   "id": "light-throat",
   "metadata": {},
   "outputs": [
    {
     "name": "stdout",
     "output_type": "stream",
     "text": [
      "(60000, 28, 28)\n",
      "(60000,)\n"
     ]
    }
   ],
   "source": [
    "fashion_mnist = tk.datasets.fashion_mnist\n",
    "\n",
    "(train_images, train_labels), (test_images, test_labels) = fashion_mnist.load_data()\n",
    "\n",
    "class_names = np.array(['T-shirt/top', 'Trouser', 'Pullover', 'Dress', 'Coat', \n",
    "                        'Sandal', 'Shirt', 'Sneaker', 'Bag', 'Ankle boot'])\n",
    "\n",
    "print(train_images.shape)\n",
    "print(train_labels.shape)"
   ]
  },
  {
   "cell_type": "code",
   "execution_count": 47,
   "id": "differential-kitchen",
   "metadata": {},
   "outputs": [
    {
     "data": {
      "image/png": "[encoded data removed]",
      "text/plain": [
       "<Figure size 504x504 with 10 Axes>"
      ]
     },
     "metadata": {
      "needs_background": "light"
     },
     "output_type": "display_data"
    }
   ],
   "source": [
    "fig=plt.figure(figsize=(7,7))\n",
    "for i in range(10):\n",
    "    fig.add_subplot(4,3,i+1)\n",
    "    idx = np.random.choice(np.where(train_labels==i)[0])\n",
    "    plt.imshow(train_images[idx,:,:], cmap='gray')\n",
    "    plt.axis('off')\n",
    "    plt.title(class_names[i])"
   ]
  },
  {
   "cell_type": "code",
   "execution_count": 48,
   "id": "prompt-mentor",
   "metadata": {},
   "outputs": [
    {
     "name": "stdout",
     "output_type": "stream",
     "text": [
      "(60000, 28, 28, 1)\n",
      "(60000,)\n"
     ]
    }
   ],
   "source": [
    "train_images = train_images.reshape((60000, 28, 28, 1))\n",
    "train_images = train_images.astype('float32') / 255\n",
    "\n",
    "test_images = test_images.reshape((10000, 28, 28, 1))\n",
    "test_images = test_images.astype('float32') / 255\n",
    "\n",
    "print(train_images.shape)\n",
    "print(train_labels.shape)"
   ]
  },
  {
   "cell_type": "code",
   "execution_count": 49,
   "id": "brilliant-bristol",
   "metadata": {},
   "outputs": [
    {
     "name": "stdout",
     "output_type": "stream",
     "text": [
      "[[0. 0. 0. ... 0. 0. 1.]\n",
      " [1. 0. 0. ... 0. 0. 0.]\n",
      " [1. 0. 0. ... 0. 0. 0.]\n",
      " ...\n",
      " [0. 0. 0. ... 0. 0. 0.]\n",
      " [1. 0. 0. ... 0. 0. 0.]\n",
      " [0. 0. 0. ... 0. 0. 0.]]\n"
     ]
    }
   ],
   "source": [
    "# one hot encoding\n",
    "from tensorflow.keras.utils import to_categorical\n",
    "\n",
    "train_labels = to_categorical(train_labels)\n",
    "test_labels = to_categorical(test_labels)\n",
    "\n",
    "print(train_labels)"
   ]
  },
  {
   "cell_type": "code",
   "execution_count": 56,
   "id": "useful-cover",
   "metadata": {},
   "outputs": [],
   "source": [
    "from tensorflow.keras.callbacks import EarlyStopping\n",
    "early_stopping = EarlyStopping(monitor='val_loss', patience=3, restore_best_weights=True) #Set patience lower when batchsize is big (steps per epoch > 30-5-)\n",
    "\n",
    "epochs = 20\n",
    "steps_per_epoch = 90"
   ]
  },
  {
   "cell_type": "code",
   "execution_count": 57,
   "id": "afraid-outdoors",
   "metadata": {},
   "outputs": [
    {
     "name": "stdout",
     "output_type": "stream",
     "text": [
      "Epoch 1/20\n",
      "90/90 [==============================] - 7s 70ms/step - loss: 0.2855 - accuracy: 0.8983\n",
      "WARNING:tensorflow:Early stopping conditioned on metric `val_loss` which is not available. Available metrics are: loss,accuracy\n",
      "Epoch 2/20\n",
      "90/90 [==============================] - 7s 78ms/step - loss: 0.2749 - accuracy: 0.9031\n",
      "WARNING:tensorflow:Early stopping conditioned on metric `val_loss` which is not available. Available metrics are: loss,accuracy\n",
      "Epoch 3/20\n",
      "90/90 [==============================] - 7s 73ms/step - loss: 0.2814 - accuracy: 0.8994\n",
      "WARNING:tensorflow:Early stopping conditioned on metric `val_loss` which is not available. Available metrics are: loss,accuracy\n",
      "Epoch 4/20\n",
      "90/90 [==============================] - 7s 73ms/step - loss: 0.2813 - accuracy: 0.8973\n",
      "WARNING:tensorflow:Early stopping conditioned on metric `val_loss` which is not available. Available metrics are: loss,accuracy\n",
      "Epoch 5/20\n",
      "90/90 [==============================] - 7s 75ms/step - loss: 0.2776 - accuracy: 0.9009\n",
      "WARNING:tensorflow:Early stopping conditioned on metric `val_loss` which is not available. Available metrics are: loss,accuracy\n",
      "Epoch 6/20\n",
      "90/90 [==============================] - 7s 72ms/step - loss: 0.2867 - accuracy: 0.8961\n",
      "WARNING:tensorflow:Early stopping conditioned on metric `val_loss` which is not available. Available metrics are: loss,accuracy\n",
      "Epoch 7/20\n",
      "90/90 [==============================] - 7s 73ms/step - loss: 0.2642 - accuracy: 0.9061\n",
      "WARNING:tensorflow:Early stopping conditioned on metric `val_loss` which is not available. Available metrics are: loss,accuracy\n",
      "Epoch 8/20\n",
      "90/90 [==============================] - 7s 78ms/step - loss: 0.2644 - accuracy: 0.9038\n",
      "WARNING:tensorflow:Early stopping conditioned on metric `val_loss` which is not available. Available metrics are: loss,accuracy\n",
      "Epoch 9/20\n",
      "90/90 [==============================] - 7s 72ms/step - loss: 0.2748 - accuracy: 0.8989\n",
      "WARNING:tensorflow:Early stopping conditioned on metric `val_loss` which is not available. Available metrics are: loss,accuracy\n",
      "Epoch 10/20\n",
      "90/90 [==============================] - 7s 73ms/step - loss: 0.2730 - accuracy: 0.9008\n",
      "WARNING:tensorflow:Early stopping conditioned on metric `val_loss` which is not available. Available metrics are: loss,accuracy\n",
      "Epoch 11/20\n",
      "90/90 [==============================] - 6s 72ms/step - loss: 0.2665 - accuracy: 0.9034\n",
      "WARNING:tensorflow:Early stopping conditioned on metric `val_loss` which is not available. Available metrics are: loss,accuracy\n",
      "Epoch 12/20\n",
      "90/90 [==============================] - 7s 78ms/step - loss: 0.2662 - accuracy: 0.9042\n",
      "WARNING:tensorflow:Early stopping conditioned on metric `val_loss` which is not available. Available metrics are: loss,accuracy\n",
      "Epoch 13/20\n",
      "90/90 [==============================] - 7s 73ms/step - loss: 0.2740 - accuracy: 0.8997\n",
      "WARNING:tensorflow:Early stopping conditioned on metric `val_loss` which is not available. Available metrics are: loss,accuracy\n",
      "Epoch 14/20\n",
      "90/90 [==============================] - 7s 72ms/step - loss: 0.2554 - accuracy: 0.9097\n",
      "WARNING:tensorflow:Early stopping conditioned on metric `val_loss` which is not available. Available metrics are: loss,accuracy\n",
      "Epoch 15/20\n",
      "90/90 [==============================] - 7s 74ms/step - loss: 0.2695 - accuracy: 0.9008\n",
      "WARNING:tensorflow:Early stopping conditioned on metric `val_loss` which is not available. Available metrics are: loss,accuracy\n",
      "Epoch 16/20\n",
      "90/90 [==============================] - 7s 73ms/step - loss: 0.2623 - accuracy: 0.9041\n",
      "WARNING:tensorflow:Early stopping conditioned on metric `val_loss` which is not available. Available metrics are: loss,accuracy\n",
      "Epoch 17/20\n",
      "90/90 [==============================] - 7s 73ms/step - loss: 0.2590 - accuracy: 0.9060\n",
      "WARNING:tensorflow:Early stopping conditioned on metric `val_loss` which is not available. Available metrics are: loss,accuracy\n",
      "Epoch 18/20\n",
      "90/90 [==============================] - 7s 77ms/step - loss: 0.2540 - accuracy: 0.9091\n",
      "WARNING:tensorflow:Early stopping conditioned on metric `val_loss` which is not available. Available metrics are: loss,accuracy\n",
      "Epoch 19/20\n",
      "90/90 [==============================] - 7s 80ms/step - loss: 0.2615 - accuracy: 0.9047\n",
      "WARNING:tensorflow:Early stopping conditioned on metric `val_loss` which is not available. Available metrics are: loss,accuracy\n",
      "Epoch 20/20\n",
      "90/90 [==============================] - 7s 74ms/step - loss: 0.2594 - accuracy: 0.9044\n",
      "WARNING:tensorflow:Early stopping conditioned on metric `val_loss` which is not available. Available metrics are: loss,accuracy\n",
      "313/313 [==============================] - 3s 9ms/step - loss: 0.2414 - accuracy: 0.9096\n",
      "Test accuracy: 0.909600019454956\n"
     ]
    }
   ],
   "source": [
    "\n",
    "model.compile(loss='categorical_crossentropy',\n",
    "              optimizer=tk.optimizers.Adam(learning_rate=0.001),\n",
    "              metrics=['accuracy'])\n",
    "\n",
    "history = model.fit(train_images, train_labels,\n",
    "            batch_size=100,\n",
    "            epochs=epochs,\n",
    "            steps_per_epoch=steps_per_epoch,\n",
    "            callbacks=[early_stopping],\n",
    "            verbose=1)\n",
    "\n",
    "test_loss, test_acc = model.evaluate(test_images, test_labels)\n",
    "print('Test accuracy:', test_acc)"
   ]
  },
  {
   "cell_type": "code",
   "execution_count": 58,
   "id": "dominican-aside",
   "metadata": {},
   "outputs": [
    {
     "name": "stdout",
     "output_type": "stream",
     "text": [
      "Epoch 1/20\n",
      "90/90 [==============================] - 1s 2ms/step - loss: 0.3036 - accuracy: 0.8897\n",
      "WARNING:tensorflow:Early stopping conditioned on metric `val_loss` which is not available. Available metrics are: loss,accuracy\n",
      "Epoch 2/20\n",
      "90/90 [==============================] - 0s 2ms/step - loss: 0.2931 - accuracy: 0.8927\n",
      "WARNING:tensorflow:Early stopping conditioned on metric `val_loss` which is not available. Available metrics are: loss,accuracy\n",
      "Epoch 3/20\n",
      "90/90 [==============================] - 0s 2ms/step - loss: 0.2988 - accuracy: 0.8910\n",
      "WARNING:tensorflow:Early stopping conditioned on metric `val_loss` which is not available. Available metrics are: loss,accuracy\n",
      "Epoch 4/20\n",
      "90/90 [==============================] - 0s 2ms/step - loss: 0.3079 - accuracy: 0.8861\n",
      "WARNING:tensorflow:Early stopping conditioned on metric `val_loss` which is not available. Available metrics are: loss,accuracy\n",
      "Epoch 5/20\n",
      "90/90 [==============================] - 0s 2ms/step - loss: 0.3141 - accuracy: 0.8867\n",
      "WARNING:tensorflow:Early stopping conditioned on metric `val_loss` which is not available. Available metrics are: loss,accuracy\n",
      "Epoch 6/20\n",
      "90/90 [==============================] - 0s 2ms/step - loss: 0.3064 - accuracy: 0.8872\n",
      "WARNING:tensorflow:Early stopping conditioned on metric `val_loss` which is not available. Available metrics are: loss,accuracy\n",
      "Epoch 7/20\n",
      "90/90 [==============================] - 0s 2ms/step - loss: 0.3011 - accuracy: 0.8900\n",
      "WARNING:tensorflow:Early stopping conditioned on metric `val_loss` which is not available. Available metrics are: loss,accuracy\n",
      "Epoch 8/20\n",
      "90/90 [==============================] - 0s 2ms/step - loss: 0.2960 - accuracy: 0.8930\n",
      "WARNING:tensorflow:Early stopping conditioned on metric `val_loss` which is not available. Available metrics are: loss,accuracy\n",
      "Epoch 9/20\n",
      "90/90 [==============================] - 0s 2ms/step - loss: 0.2882 - accuracy: 0.8944\n",
      "WARNING:tensorflow:Early stopping conditioned on metric `val_loss` which is not available. Available metrics are: loss,accuracy\n",
      "Epoch 10/20\n",
      "90/90 [==============================] - 0s 2ms/step - loss: 0.2750 - accuracy: 0.9013\n",
      "WARNING:tensorflow:Early stopping conditioned on metric `val_loss` which is not available. Available metrics are: loss,accuracy\n",
      "Epoch 11/20\n",
      "90/90 [==============================] - 0s 2ms/step - loss: 0.2966 - accuracy: 0.8886\n",
      "WARNING:tensorflow:Early stopping conditioned on metric `val_loss` which is not available. Available metrics are: loss,accuracy\n",
      "Epoch 12/20\n",
      "90/90 [==============================] - 0s 3ms/step - loss: 0.2943 - accuracy: 0.8929\n",
      "WARNING:tensorflow:Early stopping conditioned on metric `val_loss` which is not available. Available metrics are: loss,accuracy\n",
      "Epoch 13/20\n",
      "90/90 [==============================] - 0s 2ms/step - loss: 0.2790 - accuracy: 0.8977\n",
      "WARNING:tensorflow:Early stopping conditioned on metric `val_loss` which is not available. Available metrics are: loss,accuracy\n",
      "Epoch 14/20\n",
      "90/90 [==============================] - 0s 2ms/step - loss: 0.2819 - accuracy: 0.8959\n",
      "WARNING:tensorflow:Early stopping conditioned on metric `val_loss` which is not available. Available metrics are: loss,accuracy\n",
      "Epoch 15/20\n",
      "90/90 [==============================] - 0s 2ms/step - loss: 0.2872 - accuracy: 0.8960\n",
      "WARNING:tensorflow:Early stopping conditioned on metric `val_loss` which is not available. Available metrics are: loss,accuracy\n",
      "Epoch 16/20\n",
      "90/90 [==============================] - 0s 2ms/step - loss: 0.2712 - accuracy: 0.8982\n",
      "WARNING:tensorflow:Early stopping conditioned on metric `val_loss` which is not available. Available metrics are: loss,accuracy\n",
      "Epoch 17/20\n",
      "90/90 [==============================] - 0s 2ms/step - loss: 0.2796 - accuracy: 0.9003\n",
      "WARNING:tensorflow:Early stopping conditioned on metric `val_loss` which is not available. Available metrics are: loss,accuracy\n",
      "Epoch 18/20\n",
      "90/90 [==============================] - 0s 2ms/step - loss: 0.2727 - accuracy: 0.9006\n",
      "WARNING:tensorflow:Early stopping conditioned on metric `val_loss` which is not available. Available metrics are: loss,accuracy\n",
      "Epoch 19/20\n",
      "90/90 [==============================] - 0s 2ms/step - loss: 0.2741 - accuracy: 0.8980\n",
      "WARNING:tensorflow:Early stopping conditioned on metric `val_loss` which is not available. Available metrics are: loss,accuracy\n",
      "Epoch 20/20\n",
      "90/90 [==============================] - 0s 2ms/step - loss: 0.2763 - accuracy: 0.8966\n",
      "WARNING:tensorflow:Early stopping conditioned on metric `val_loss` which is not available. Available metrics are: loss,accuracy\n",
      "313/313 [==============================] - 0s 1ms/step - loss: 0.3417 - accuracy: 0.8747\n",
      "Test accuracy: 0.8747000098228455\n"
     ]
    }
   ],
   "source": [
    "dense_model.compile(loss='categorical_crossentropy',\n",
    "              optimizer=tk.optimizers.Adam(learning_rate=0.001),\n",
    "              metrics=['accuracy'])\n",
    "\n",
    "dense_history = dense_model.fit(train_images, train_labels,\n",
    "            batch_size=100,\n",
    "            epochs=epochs,\n",
    "            steps_per_epoch=steps_per_epoch,\n",
    "            callbacks=[early_stopping],\n",
    "            verbose=1)\n",
    "\n",
    "test_loss, test_acc = dense_model.evaluate(test_images, test_labels)\n",
    "print('Test accuracy:', test_acc)"
   ]
  },
  {
   "cell_type": "code",
   "execution_count": 59,
   "id": "distributed-chuck",
   "metadata": {},
   "outputs": [],
   "source": [
    "def plot_training_history(history):\n",
    "    # Get the classification accuracy and loss-value\n",
    "    # for the training-set.\n",
    "    acc = history.history['accuracy']\n",
    "    loss = history.history['loss']\n",
    "\n",
    "    # Get it for the validation-set (we only use the test-set).\n",
    "    val_acc = history.history['val_accuracy']\n",
    "    val_loss = history.history['val_loss']\n",
    "\n",
    "    # Plot the accuracy and loss-values for the training-set.\n",
    "    plt.plot(acc, color='b', label='Training Acc.')\n",
    "    # plt.plot(loss, 'o', color='b', label='Training Loss')\n",
    "    \n",
    "    # Plot it for the test-set.\n",
    "    plt.plot(val_acc, color='r', label='Test Acc.')\n",
    "    plt.plot(val_loss, '--', color='r', label='Test Loss')\n",
    "\n",
    "    # Plot title and legend.\n",
    "    plt.title('Training and Test Accuracy')\n",
    "    plt.legend()\n",
    "\n",
    "    # Ensure the plot shows correctly.\n",
    "    plt.show()"
   ]
  },
  {
   "cell_type": "code",
   "execution_count": 66,
   "id": "incomplete-guidance",
   "metadata": {},
   "outputs": [
    {
     "data": {
      "text/plain": [
       "dict_keys(['loss', 'accuracy'])"
      ]
     },
     "execution_count": 66,
     "metadata": {},
     "output_type": "execute_result"
    }
   ],
   "source": [
    "history.history.keys()"
   ]
  },
  {
   "cell_type": "code",
   "execution_count": 60,
   "id": "expressed-probe",
   "metadata": {},
   "outputs": [
    {
     "ename": "KeyError",
     "evalue": "'val_accuracy'",
     "output_type": "error",
     "traceback": [
      "\u001b[1;31m---------------------------------------------------------------------------\u001b[0m",
      "\u001b[1;31mKeyError\u001b[0m                                  Traceback (most recent call last)",
      "\u001b[1;32m<ipython-input-60-2469e8e42f69>\u001b[0m in \u001b[0;36m<module>\u001b[1;34m\u001b[0m\n\u001b[1;32m----> 1\u001b[1;33m \u001b[0mplot_training_history\u001b[0m\u001b[1;33m(\u001b[0m\u001b[0mhistory\u001b[0m\u001b[1;33m)\u001b[0m\u001b[1;33m\u001b[0m\u001b[1;33m\u001b[0m\u001b[0m\n\u001b[0m",
      "\u001b[1;32m<ipython-input-59-6fb67ee1cd43>\u001b[0m in \u001b[0;36mplot_training_history\u001b[1;34m(history)\u001b[0m\n\u001b[0;32m      6\u001b[0m \u001b[1;33m\u001b[0m\u001b[0m\n\u001b[0;32m      7\u001b[0m     \u001b[1;31m# Get it for the validation-set (we only use the test-set).\u001b[0m\u001b[1;33m\u001b[0m\u001b[1;33m\u001b[0m\u001b[1;33m\u001b[0m\u001b[0m\n\u001b[1;32m----> 8\u001b[1;33m     \u001b[0mval_acc\u001b[0m \u001b[1;33m=\u001b[0m \u001b[0mhistory\u001b[0m\u001b[1;33m.\u001b[0m\u001b[0mhistory\u001b[0m\u001b[1;33m[\u001b[0m\u001b[1;34m'val_accuracy'\u001b[0m\u001b[1;33m]\u001b[0m\u001b[1;33m\u001b[0m\u001b[1;33m\u001b[0m\u001b[0m\n\u001b[0m\u001b[0;32m      9\u001b[0m     \u001b[0mval_loss\u001b[0m \u001b[1;33m=\u001b[0m \u001b[0mhistory\u001b[0m\u001b[1;33m.\u001b[0m\u001b[0mhistory\u001b[0m\u001b[1;33m[\u001b[0m\u001b[1;34m'val_loss'\u001b[0m\u001b[1;33m]\u001b[0m\u001b[1;33m\u001b[0m\u001b[1;33m\u001b[0m\u001b[0m\n\u001b[0;32m     10\u001b[0m \u001b[1;33m\u001b[0m\u001b[0m\n",
      "\u001b[1;31mKeyError\u001b[0m: 'val_accuracy'"
     ]
    }
   ],
   "source": [
    "plot_training_history(history)"
   ]
  },
  {
   "cell_type": "code",
   "execution_count": null,
   "id": "ready-power",
   "metadata": {},
   "outputs": [],
   "source": [
    "plot_training_history(dense_history)"
   ]
  }
 ],
 "metadata": {
  "kernelspec": {
   "display_name": "Python 3",
   "language": "python",
   "name": "python3"
  },
  "language_info": {
   "codemirror_mode": {
    "name": "ipython",
    "version": 3
   },
   "file_extension": ".py",
   "mimetype": "text/x-python",
   "name": "python",
   "nbconvert_exporter": "python",
   "pygments_lexer": "ipython3",
   "version": "3.9.1"
  }
 },
 "nbformat": 4,
 "nbformat_minor": 5
}

{
 "cells": [
  {
   "cell_type": "markdown",
   "id": "european-theory",
   "metadata": {},
   "source": [
    "# Convolution"
   ]
  },
  {
   "cell_type": "markdown",
   "id": "pretty-madison",
   "metadata": {},
   "source": [
    "In the last few years, CNNs have become popular in the areas of image recognition, object detection, segmentation, and many other tasks in the field of computer vision. They are also becoming popular in the field of **natural language processing (NLP)**.\n",
    "\n",
    "The fundamental difference between fully connected layers and convolution layers is the way the weights are connected to each other in the intermediate layers.\n",
    "\n",
    "One of the biggest challenges of using a linear layer or fully connected layers for computer vision is that they lose all spatial information, and the complexity in terms of the number of weights used by fully connected layers is too big. For example, when we represent a $224\\times 224$ color image as a flat array, we would end up with $150 528$-dimensional feature vector ($224 \\times 224 \\times 3$). When the image is flattened, we lose all the spatial information.\n",
    "\n",
    "There is a better way! It consists in replacing the dense, fully-connected affine transformation in our neural network unit with a different linear operation: **convolution**."
   ]
  },
  {
   "cell_type": "markdown",
   "id": "premier-conspiracy",
   "metadata": {},
   "source": [
    "### Why would you use a convolution?\n",
    "\n",
    "Convolutions are very common operations. Here are some image processing examples:\n",
    "\n",
    "* **Edge Detection:** can detect edges by convolving with edge masks (e.g., the Sobel edge detectors)\n",
    "\n",
    "$$S_v = \\left[\\begin{array}{ccc}\n",
    "-1 & 0 & 1\\\\\n",
    "-2 & 0 & 2\\\\\n",
    "-1 & 0 & 1\n",
    "\\end{array}\\right]$$\n",
    "\n",
    "$$S_h = \\left[\\begin{array}{ccc}\n",
    "-1 & -2 & -1\\\\\n",
    "0 & 0 & 0\\\\\n",
    "1 & 2 & 1\n",
    "\\end{array}\\right]$$\n",
    "\n",
    "The vertical and horizontal Sobel edge masks.\n",
    "\n",
    "* **Image Smoothing:** can smooth/blur images using a mean filter.\n",
    "\n",
    "* **Unsharp Masking:** can sharpen imagery by subtracting a mean filtered image from the original.\n",
    "\n",
    "* and many more..."
   ]
  },
  {
   "cell_type": "markdown",
   "id": "seeing-librarian",
   "metadata": {},
   "source": [
    "* So, various convolutions have the ability to enhance and extract features of interest.\n",
    "\n",
    "* The idea behind a convolutional neural network is to learn the features needed to perform classification (or regression) during the learning process for the neural network. This is in contrast with approaches in which you first identify features of importance, extract them in advance, and then train a classifier (e.g., a neural network) on the extracted features.\n",
    "\n",
    "We would like these localized patterns to have an effect on the output no matter their location in the image, i.e. to be **translation-invariant**. \n",
    "\n",
    "To do that, we would need to force the weights in each per-output-pixel family of patterns to have same values, regardless of pixel location. To achieve this goal, we would need to initialize all weight matrices in a family with the same values, and, during back-propagation, average the gradients for all pixel locations and apply that average as the update to all weights in the family.\n",
    "\n",
    "For this reason, CNNs are often called **shared weight neural networks**. This is because several connections in the network are tied together to have the same value.\n",
    "\n",
    "**CNNs can have much fewer parameters than fully connected layers**"
   ]
  },
  {
   "cell_type": "markdown",
   "id": "demonstrated-ecuador",
   "metadata": {},
   "source": [
    "Consider a 2-D convolution (used, for example, in image processing):\n",
    "\n",
    "$$g(x,y) \\ast f(x,y) = \\sum_{s=-a}^a \\sum_{t=-b}^b g(s,t) f(x-s, y-t)$$\n",
    "\n",
    "where $g$ is the filter and $f$ is the image to be convolved. Essentially, we flip both horizontally and vertically and, then, slide $g$ accross $f$ where at each location we perform a pointwise multiplication and then a sum.\n",
    "\n",
    "To understand better how are we exactly creating a neural network that extracts features using convolution operations, we need to first consider that a convolutional can be written as a *linear operation* with a **doubly block circulant matrix**.\n",
    "\n",
    "$$H(x,y) = F(x,y) \\ast g(x,y)$$\n",
    "\n",
    "is the same as\n",
    "\n",
    "$$h = Gf$$\n",
    "\n",
    "where $f$ and $h$ are the vectorized forms of $F$ and $G$ is a doubly block circulant matrix.\n",
    "\n",
    "Consider the following small image:\n",
    "\n",
    "$$Im = \\left[\\begin{array}{cccc}\n",
    "1 & 2 & 3 & 4\\\\\n",
    "5 & 6 & 7 & 8\\\\\n",
    "9 & 10 & 11 & 12\\\\\n",
    "13 & 14 & 15 & 16\n",
    "\\end{array}\\right]$$\n",
    "\n",
    "We can vectorize it and obtain:\n",
    "\n",
    "$$I^T = [1,2,3,\\dots, 14,15,16]$$\n",
    "\n",
    "Let's consider the following kernel:\n",
    "\n",
    "$$k = \\left[\\begin{array}{ccc}\n",
    "-1 & -2 & -3\\\\\n",
    "-4 & -5 & -6\\\\\n",
    "-7 & -8 & -9\n",
    "\\end{array}\\right]$$\n",
    "\n",
    "Let $G$ be:\n",
    "\n",
    "$$G = \\left[\\begin{array}{cccccccccccccccc}\n",
    "-1 & -2 & -3 & 0 & -4 & -5 & -6 & 0 & -7 & -8 & -9 & 0 & 0 & 0 & 0 & 0\\\\\n",
    "0 & -1 & -2 & -3 & 0 & -4 & -5 & -6 & 0 & -7 & -8 & -9 & 0 & 0 & 0 & 0 \\\\\n",
    "0 & 0 & 0 & 0 & -1 & -2 & -3 & 0 & -4 & -5 & -6 & 0 & -7 & -8 & -9 & 0\\\\\n",
    "0 & 0 & 0 & 0 & 0 & -1 & -2 & -3 & 0 & -4 & -5 & -6 & 0 & -7 & -8 & -9\\\\\n",
    "\\end{array}\\right]$$\n",
    "\n",
    "So, we can write the convolution as the matrix multiplication:\n",
    "\n",
    "$$GI$$"
   ]
  },
  {
   "cell_type": "markdown",
   "id": "sized-collectible",
   "metadata": {},
   "source": [
    "### Kernel/Filter Sizes\n",
    "\n",
    "Small kernels, like $3 \\times 3$ or $5 \\times 5$ provide very local information. The problem is that we can not assume all structures in our images are 3 pixels or 5 pixels wide.\n",
    "\n",
    "In order to identify larger objects in an image we will need large convolution kernels. Well, sure, at the limit we could get a\n",
    "$32 \\times 32$ kernel for a $32 \\times 32$ image, but we would converge to the old fully connected, affine transformation and lose all the nice properties of convolution. \n",
    "\n",
    "Another option, which is what is used in convolutional neural networks, is stacking one convolution after the other, and at the same time downsampling the image in-between successive convolutions.\n",
    "\n",
    "So, on one hand, the first set of kernels operates on small neighborhoods on first-order, low-level features, while the second set of kernels effectively operates on wider neighborhoods, producing features that are compositions of the previous features. This is a very powerful mechanism that provides convolutional neural networks with the ability to see into very complex scenes"
   ]
  },
  {
   "cell_type": "markdown",
   "id": "equal-civilian",
   "metadata": {},
   "source": [
    "### Pooling Layers & Strides\n",
    "\n",
    "Downsampling could in principle occur in different ways. Scaling an image by a half is the equivalent of taking 4 neighboring pixels in input and producing one pixel in output. How we compute the value of the output based on the values of the input is up to us. We could:\n",
    "\n",
    "* **Average-pooling**: average the four pixels. This was a common approach early on, but has since fallen out of favor somewhat.\n",
    "* **Max-pooling**: take the maximum of the four pixels. This is currently the most commonly used approach, but has a downside of discarding the other 3/4ths of the data.\n",
    "* **Stride**: perform a strided convolution, where only every Nth pixel is calculated. A 3x4 convolution with stride 2 still incorporates input from all pixels from the previous layer. Current literature shows promise for this approach, but it has not yet supplanted maxpool."
   ]
  },
  {
   "cell_type": "code",
   "execution_count": 2,
   "id": "level-labor",
   "metadata": {},
   "outputs": [],
   "source": [
    "import tensorflow.keras as tk\n",
    "import numpy as np\n",
    "import matplotlib.pyplot as plt\n",
    "%matplotlib inline"
   ]
  },
  {
   "cell_type": "code",
   "execution_count": 48,
   "id": "alert-wireless",
   "metadata": {},
   "outputs": [
    {
     "name": "stdout",
     "output_type": "stream",
     "text": [
      "Model: \"sequential_2\"\n",
      "_________________________________________________________________\n",
      "Layer (type)                 Output Shape              Param #   \n",
      "=================================================================\n",
      "conv2d_3 (Conv2D)            (None, 26, 26, 32)        320       \n",
      "_________________________________________________________________\n",
      "batch_normalization_3 (Batch (None, 26, 26, 32)        128       \n",
      "_________________________________________________________________\n",
      "max_pooling2d_2 (MaxPooling2 (None, 13, 13, 32)        0         \n",
      "_________________________________________________________________\n",
      "conv2d_4 (Conv2D)            (None, 13, 13, 32)        9248      \n",
      "_________________________________________________________________\n",
      "batch_normalization_4 (Batch (None, 13, 13, 32)        128       \n",
      "_________________________________________________________________\n",
      "dropout_3 (Dropout)          (None, 13, 13, 32)        0         \n",
      "_________________________________________________________________\n",
      "conv2d_5 (Conv2D)            (None, 13, 13, 16)        4624      \n",
      "_________________________________________________________________\n",
      "max_pooling2d_3 (MaxPooling2 (None, 6, 6, 16)          0         \n",
      "_________________________________________________________________\n",
      "dropout_4 (Dropout)          (None, 6, 6, 16)          0         \n",
      "_________________________________________________________________\n",
      "flatten_2 (Flatten)          (None, 576)               0         \n",
      "_________________________________________________________________\n",
      "dense_4 (Dense)              (None, 128)               73856     \n",
      "_________________________________________________________________\n",
      "batch_normalization_5 (Batch (None, 128)               512       \n",
      "_________________________________________________________________\n",
      "dropout_5 (Dropout)          (None, 128)               0         \n",
      "_________________________________________________________________\n",
      "dense_5 (Dense)              (None, 10)                1290      \n",
      "=================================================================\n",
      "Total params: 90,106\n",
      "Trainable params: 89,722\n",
      "Non-trainable params: 384\n",
      "_________________________________________________________________\n"
     ]
    }
   ],
   "source": [
    "model = tk.Sequential()\n",
    "\n",
    "model.add(tk.layers.Conv2D(32,(3,3),activation='relu',input_shape=(28,28,1)))\n",
    "model.add(tk.layers.BatchNormalization())\n",
    "model.add(tk.layers.MaxPooling2D((2, 2)))\n",
    "\n",
    "model.add(tk.layers.Conv2D(filters=32, kernel_size=(3, 3), activation='relu', strides=1, padding='same'))\n",
    "model.add(tk.layers.BatchNormalization())\n",
    "model.add(tk.layers.Dropout(0.25))\n",
    "\n",
    "model.add(tk.layers.Conv2D(filters=16, kernel_size=(3, 3), activation='relu', strides=1, padding='same'))\n",
    "model.add(tk.layers.MaxPooling2D(pool_size=(2, 2)))\n",
    "model.add(tk.layers.Dropout(0.25))\n",
    "                                 \n",
    "model.add(tk.layers.Flatten())\n",
    "                                 \n",
    "model.add(tk.layers.Dense(128, activation='relu'))\n",
    "model.add(tk.layers.BatchNormalization())\n",
    "model.add(tk.layers.Dropout(0.5))\n",
    "                                 \n",
    "model.add(tk.layers.Dense(10, activation='softmax'))\n",
    "\n",
    "model.summary()"
   ]
  },
  {
   "cell_type": "code",
   "execution_count": 49,
   "id": "serial-advocate",
   "metadata": {},
   "outputs": [
    {
     "name": "stdout",
     "output_type": "stream",
     "text": [
      "Model: \"sequential_3\"\n",
      "_________________________________________________________________\n",
      "Layer (type)                 Output Shape              Param #   \n",
      "=================================================================\n",
      "flatten_3 (Flatten)          (None, 784)               0         \n",
      "_________________________________________________________________\n",
      "dense_6 (Dense)              (None, 128)               100480    \n",
      "_________________________________________________________________\n",
      "dense_7 (Dense)              (None, 10)                1290      \n",
      "=================================================================\n",
      "Total params: 101,770\n",
      "Trainable params: 101,770\n",
      "Non-trainable params: 0\n",
      "_________________________________________________________________\n"
     ]
    }
   ],
   "source": [
    "dense_model = tk.models.Sequential(\n",
    "    [\n",
    "        tk.layers.Flatten(input_shape=(28,28,1)), \n",
    "        tk.layers.Dense(128, activation='relu'), # alternatively you could use activation=tf.nn.relu\n",
    "        tk.layers.Dense(10, activation='softmax')\n",
    "    ])\n",
    "dense_model.summary()"
   ]
  },
  {
   "cell_type": "code",
   "execution_count": 5,
   "id": "light-throat",
   "metadata": {},
   "outputs": [
    {
     "name": "stdout",
     "output_type": "stream",
     "text": [
      "(60000, 28, 28)\n",
      "(60000,)\n"
     ]
    }
   ],
   "source": [
    "fashion_mnist = tk.datasets.fashion_mnist\n",
    "\n",
    "(train_images, train_labels), (test_images, test_labels) = fashion_mnist.load_data()\n",
    "\n",
    "class_names = np.array(['T-shirt/top', 'Trouser', 'Pullover', 'Dress', 'Coat', \n",
    "                        'Sandal', 'Shirt', 'Sneaker', 'Bag', 'Ankle boot'])\n",
    "\n",
    "print(train_images.shape)\n",
    "print(train_labels.shape)"
   ]
  },
  {
   "cell_type": "code",
   "execution_count": 6,
   "id": "differential-kitchen",
   "metadata": {},
   "outputs": [
    {
     "data": {
      "image/png": "[encoded data removed]",
      "text/plain": [
       "<Figure size 504x504 with 10 Axes>"
      ]
     },
     "metadata": {
      "needs_background": "light"
     },
     "output_type": "display_data"
    }
   ],
   "source": [
    "fig=plt.figure(figsize=(7,7))\n",
    "for i in range(10):\n",
    "    fig.add_subplot(4,3,i+1)\n",
    "    idx = np.random.choice(np.where(train_labels==i)[0])\n",
    "    plt.imshow(train_images[idx,:,:], cmap='gray')\n",
    "    plt.axis('off')\n",
    "    plt.title(class_names[i])"
   ]
  },
  {
   "cell_type": "code",
   "execution_count": 7,
   "id": "prompt-mentor",
   "metadata": {},
   "outputs": [
    {
     "name": "stdout",
     "output_type": "stream",
     "text": [
      "(60000, 28, 28, 1)\n",
      "(60000,)\n"
     ]
    }
   ],
   "source": [
    "train_images = train_images.reshape((60000, 28, 28, 1))\n",
    "train_images = train_images.astype('float32') / 255\n",
    "\n",
    "test_images = test_images.reshape((10000, 28, 28, 1))\n",
    "test_images = test_images.astype('float32') / 255\n",
    "\n",
    "print(train_images.shape)\n",
    "print(train_labels.shape)"
   ]
  },
  {
   "cell_type": "code",
   "execution_count": 8,
   "id": "brilliant-bristol",
   "metadata": {},
   "outputs": [
    {
     "name": "stdout",
     "output_type": "stream",
     "text": [
      "[[0. 0. 0. ... 0. 0. 1.]\n",
      " [1. 0. 0. ... 0. 0. 0.]\n",
      " [1. 0. 0. ... 0. 0. 0.]\n",
      " ...\n",
      " [0. 0. 0. ... 0. 0. 0.]\n",
      " [1. 0. 0. ... 0. 0. 0.]\n",
      " [0. 0. 0. ... 0. 0. 0.]]\n"
     ]
    }
   ],
   "source": [
    "# one hot encoding\n",
    "from tensorflow.keras.utils import to_categorical\n",
    "\n",
    "train_labels = to_categorical(train_labels)\n",
    "test_labels = to_categorical(test_labels)\n",
    "\n",
    "print(train_labels)"
   ]
  },
  {
   "cell_type": "code",
   "execution_count": 9,
   "id": "useful-cover",
   "metadata": {},
   "outputs": [],
   "source": [
    "from tensorflow.keras.callbacks import EarlyStopping\n",
    "early_stopping = EarlyStopping(monitor='val_loss', patience=3, restore_best_weights=True) #Set patience lower when batchsize is big (steps per epoch > 30-5-)\n",
    "\n",
    "epochs = 20\n",
    "steps_per_epoch = 90"
   ]
  },
  {
   "cell_type": "code",
   "execution_count": 36,
   "id": "worth-bacon",
   "metadata": {},
   "outputs": [
    {
     "data": {
      "text/plain": [
       "((10000, 28, 28, 1), (10000, 10))"
      ]
     },
     "execution_count": 36,
     "metadata": {},
     "output_type": "execute_result"
    }
   ],
   "source": [
    "test_images.shape, test_labels.shape"
   ]
  },
  {
   "cell_type": "code",
   "execution_count": 38,
   "id": "excessive-hardwood",
   "metadata": {},
   "outputs": [
    {
     "data": {
      "text/plain": [
       "((60000, 28, 28, 1), (60000, 10))"
      ]
     },
     "execution_count": 38,
     "metadata": {},
     "output_type": "execute_result"
    }
   ],
   "source": [
    "train_images.shape, train_labels.shape"
   ]
  },
  {
   "cell_type": "code",
   "execution_count": 50,
   "id": "afraid-outdoors",
   "metadata": {},
   "outputs": [
    {
     "name": "stdout",
     "output_type": "stream",
     "text": [
      "Epoch 1/20\n",
      "90/90 [==============================] - 13s 127ms/step - loss: 1.1186 - accuracy: 0.6257 - val_loss: 2.2875 - val_accuracy: 0.1051\n",
      "Epoch 2/20\n",
      "90/90 [==============================] - 11s 121ms/step - loss: 0.7018 - accuracy: 0.7484 - val_loss: 2.1571 - val_accuracy: 0.1348\n",
      "Epoch 3/20\n",
      "90/90 [==============================] - 11s 120ms/step - loss: 0.6010 - accuracy: 0.7781 - val_loss: 1.6057 - val_accuracy: 0.3987\n",
      "Epoch 4/20\n",
      "90/90 [==============================] - 11s 123ms/step - loss: 0.5380 - accuracy: 0.8033 - val_loss: 1.0872 - val_accuracy: 0.6482\n",
      "Epoch 5/20\n",
      "90/90 [==============================] - 11s 123ms/step - loss: 0.5027 - accuracy: 0.8163 - val_loss: 0.6794 - val_accuracy: 0.7545\n",
      "Epoch 6/20\n",
      "90/90 [==============================] - 11s 125ms/step - loss: 0.4789 - accuracy: 0.8247 - val_loss: 0.4987 - val_accuracy: 0.8347\n",
      "Epoch 7/20\n",
      "90/90 [==============================] - 11s 124ms/step - loss: 0.4387 - accuracy: 0.8442 - val_loss: 0.4082 - val_accuracy: 0.8514\n",
      "Epoch 8/20\n",
      "90/90 [==============================] - 11s 124ms/step - loss: 0.4242 - accuracy: 0.8476 - val_loss: 0.3792 - val_accuracy: 0.8644\n",
      "Epoch 9/20\n",
      "90/90 [==============================] - 11s 124ms/step - loss: 0.4173 - accuracy: 0.8490 - val_loss: 0.3620 - val_accuracy: 0.8732\n",
      "Epoch 10/20\n",
      "90/90 [==============================] - 11s 124ms/step - loss: 0.3988 - accuracy: 0.8542 - val_loss: 0.3781 - val_accuracy: 0.8564\n",
      "Epoch 11/20\n",
      "90/90 [==============================] - 11s 124ms/step - loss: 0.3907 - accuracy: 0.8593 - val_loss: 0.3706 - val_accuracy: 0.8619\n",
      "Epoch 12/20\n",
      "90/90 [==============================] - 11s 124ms/step - loss: 0.3972 - accuracy: 0.8628 - val_loss: 0.3382 - val_accuracy: 0.8759\n",
      "Epoch 13/20\n",
      "90/90 [==============================] - 11s 122ms/step - loss: 0.3875 - accuracy: 0.8597 - val_loss: 0.3242 - val_accuracy: 0.8843\n",
      "Epoch 14/20\n",
      "90/90 [==============================] - 11s 124ms/step - loss: 0.3558 - accuracy: 0.8731 - val_loss: 0.3142 - val_accuracy: 0.8868\n",
      "Epoch 15/20\n",
      "90/90 [==============================] - 11s 123ms/step - loss: 0.3741 - accuracy: 0.8647 - val_loss: 0.3221 - val_accuracy: 0.8811\n",
      "Epoch 16/20\n",
      "90/90 [==============================] - 11s 124ms/step - loss: 0.3551 - accuracy: 0.8719 - val_loss: 0.3229 - val_accuracy: 0.8778\n",
      "Epoch 17/20\n",
      "90/90 [==============================] - 11s 124ms/step - loss: 0.3599 - accuracy: 0.8688 - val_loss: 0.3250 - val_accuracy: 0.8836\n",
      "313/313 [==============================] - 5s 16ms/step - loss: 0.3142 - accuracy: 0.8868\n",
      "Test accuracy: 0.8867999911308289\n"
     ]
    }
   ],
   "source": [
    "\n",
    "model.compile(loss='categorical_crossentropy',\n",
    "              optimizer=tk.optimizers.Adam(learning_rate=0.001),\n",
    "              metrics=['accuracy'])\n",
    "\n",
    "history = model.fit(train_images, train_labels,\n",
    "            batch_size=100,\n",
    "            epochs=epochs,\n",
    "            validation_data = (test_images, test_labels),\n",
    "            steps_per_epoch=steps_per_epoch,\n",
    "            callbacks=[early_stopping],\n",
    "            verbose=1)\n",
    "\n",
    "test_loss, test_acc = model.evaluate(test_images, test_labels)\n",
    "print('Test accuracy:', test_acc)"
   ]
  },
  {
   "cell_type": "code",
   "execution_count": 51,
   "id": "dominican-aside",
   "metadata": {},
   "outputs": [
    {
     "name": "stdout",
     "output_type": "stream",
     "text": [
      "Epoch 1/20\n",
      "90/90 [==============================] - 1s 8ms/step - loss: 0.8659 - accuracy: 0.7099 - val_loss: 0.6338 - val_accuracy: 0.7788\n",
      "Epoch 2/20\n",
      "90/90 [==============================] - 0s 5ms/step - loss: 0.5684 - accuracy: 0.8073 - val_loss: 0.5582 - val_accuracy: 0.8127\n",
      "Epoch 3/20\n",
      "90/90 [==============================] - 1s 6ms/step - loss: 0.5051 - accuracy: 0.8281 - val_loss: 0.5414 - val_accuracy: 0.8058\n",
      "Epoch 4/20\n",
      "90/90 [==============================] - 0s 6ms/step - loss: 0.4936 - accuracy: 0.8264 - val_loss: 0.4837 - val_accuracy: 0.8341\n",
      "Epoch 5/20\n",
      "90/90 [==============================] - 0s 5ms/step - loss: 0.4453 - accuracy: 0.8472 - val_loss: 0.4658 - val_accuracy: 0.8404\n",
      "Epoch 6/20\n",
      "90/90 [==============================] - 0s 5ms/step - loss: 0.4404 - accuracy: 0.8488 - val_loss: 0.5023 - val_accuracy: 0.8246\n",
      "Epoch 7/20\n",
      "90/90 [==============================] - 0s 5ms/step - loss: 0.4285 - accuracy: 0.8481 - val_loss: 0.4492 - val_accuracy: 0.8425\n",
      "Epoch 8/20\n",
      "90/90 [==============================] - 0s 5ms/step - loss: 0.4109 - accuracy: 0.8558 - val_loss: 0.4495 - val_accuracy: 0.8394\n",
      "Epoch 9/20\n",
      "90/90 [==============================] - 0s 5ms/step - loss: 0.4041 - accuracy: 0.8561 - val_loss: 0.4385 - val_accuracy: 0.8446\n",
      "Epoch 10/20\n",
      "90/90 [==============================] - 0s 5ms/step - loss: 0.4030 - accuracy: 0.8610 - val_loss: 0.4477 - val_accuracy: 0.8365\n",
      "Epoch 11/20\n",
      "90/90 [==============================] - 0s 5ms/step - loss: 0.3988 - accuracy: 0.8611 - val_loss: 0.4135 - val_accuracy: 0.8521\n",
      "Epoch 12/20\n",
      "90/90 [==============================] - 0s 5ms/step - loss: 0.3932 - accuracy: 0.8633 - val_loss: 0.4120 - val_accuracy: 0.8541\n",
      "Epoch 13/20\n",
      "90/90 [==============================] - 0s 5ms/step - loss: 0.3821 - accuracy: 0.8638 - val_loss: 0.4562 - val_accuracy: 0.8349\n",
      "Epoch 14/20\n",
      "90/90 [==============================] - 0s 5ms/step - loss: 0.3925 - accuracy: 0.8568 - val_loss: 0.4026 - val_accuracy: 0.8588\n",
      "Epoch 15/20\n",
      "90/90 [==============================] - 0s 5ms/step - loss: 0.3628 - accuracy: 0.8717 - val_loss: 0.4208 - val_accuracy: 0.8470\n",
      "Epoch 16/20\n",
      "90/90 [==============================] - 0s 5ms/step - loss: 0.3731 - accuracy: 0.8632 - val_loss: 0.4388 - val_accuracy: 0.8468\n",
      "Epoch 17/20\n",
      "90/90 [==============================] - 0s 5ms/step - loss: 0.3659 - accuracy: 0.8694 - val_loss: 0.4048 - val_accuracy: 0.8548\n",
      "313/313 [==============================] - 1s 2ms/step - loss: 0.4026 - accuracy: 0.8588\n",
      "Test accuracy: 0.8587999939918518\n"
     ]
    }
   ],
   "source": [
    "dense_model.compile(loss='categorical_crossentropy',\n",
    "              optimizer=tk.optimizers.Adam(learning_rate=0.001),\n",
    "              metrics=['accuracy'])\n",
    "\n",
    "dense_history = dense_model.fit(train_images, train_labels,\n",
    "            batch_size=100,\n",
    "            epochs=epochs,\n",
    "            validation_data = (test_images, test_labels),\n",
    "            steps_per_epoch=steps_per_epoch,\n",
    "            callbacks=[early_stopping],\n",
    "            verbose=1)\n",
    "\n",
    "test_loss, test_acc = dense_model.evaluate(test_images, test_labels)\n",
    "print('Test accuracy:', test_acc)"
   ]
  },
  {
   "cell_type": "code",
   "execution_count": 52,
   "id": "distributed-chuck",
   "metadata": {},
   "outputs": [],
   "source": [
    "def plot_training_history(history):\n",
    "    # Get the classification accuracy and loss-value\n",
    "    # for the training-set.\n",
    "    acc = history.history['accuracy']\n",
    "    loss = history.history['loss']\n",
    "\n",
    "    # Get it for the validation-set (we only use the test-set).\n",
    "    val_acc = history.history['val_accuracy']\n",
    "    val_loss = history.history['val_loss']\n",
    "\n",
    "    # Plot the accuracy and loss-values for the training-set.\n",
    "    plt.plot(acc, color='b', label='Training Acc.')\n",
    "    # plt.plot(loss, 'o', color='b', label='Training Loss')\n",
    "    \n",
    "    # Plot it for the test-set.\n",
    "    plt.plot(val_acc, color='r', label='Test Acc.')\n",
    "    plt.plot(val_loss, '--', color='r', label='Test Loss')\n",
    "\n",
    "    # Plot title and legend.\n",
    "    plt.title('Training and Test Accuracy')\n",
    "    plt.legend()\n",
    "\n",
    "    # Ensure the plot shows correctly.\n",
    "    plt.show()"
   ]
  },
  {
   "cell_type": "code",
   "execution_count": 53,
   "id": "incomplete-guidance",
   "metadata": {},
   "outputs": [
    {
     "data": {
      "text/plain": [
       "{'verbose': 1, 'epochs': 20, 'steps': 90}"
      ]
     },
     "execution_count": 53,
     "metadata": {},
     "output_type": "execute_result"
    }
   ],
   "source": [
    "history.params"
   ]
  },
  {
   "cell_type": "code",
   "execution_count": null,
   "id": "precise-serbia",
   "metadata": {},
   "outputs": [],
   "source": []
  },
  {
   "cell_type": "code",
   "execution_count": 54,
   "id": "expressed-probe",
   "metadata": {},
   "outputs": [
    {
     "data": {
      "image/png": "[encoded data removed]",
      "text/plain": [
       "<Figure size 432x288 with 1 Axes>"
      ]
     },
     "metadata": {
      "needs_background": "light"
     },
     "output_type": "display_data"
    }
   ],
   "source": [
    "plot_training_history(history)"
   ]
  },
  {
   "cell_type": "code",
   "execution_count": 55,
   "id": "ready-power",
   "metadata": {},
   "outputs": [
    {
     "data": {
      "image/png": "[encoded data removed]",
      "text/plain": [
       "<Figure size 432x288 with 1 Axes>"
      ]
     },
     "metadata": {
      "needs_background": "light"
     },
     "output_type": "display_data"
    }
   ],
   "source": [
    "plot_training_history(dense_history)"
   ]
  },
  {
   "cell_type": "code",
   "execution_count": null,
   "id": "atomic-throat",
   "metadata": {},
   "outputs": [],
   "source": []
  }
 ],
 "metadata": {
  "kernelspec": {
   "display_name": "Python 3 (ipykernel)",
   "language": "python",
   "name": "python3"
  },
  "language_info": {
   "codemirror_mode": {
    "name": "ipython",
    "version": 3
   },
   "file_extension": ".py",
   "mimetype": "text/x-python",
   "name": "python",
   "nbconvert_exporter": "python",
   "pygments_lexer": "ipython3",
   "version": "3.8.1"
  }
 },
 "nbformat": 4,
 "nbformat_minor": 5
}

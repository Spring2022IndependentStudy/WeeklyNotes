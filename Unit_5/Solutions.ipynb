{
 "cells": [
  {
   "cell_type": "markdown",
   "id": "e77bb227-2dc7-45b5-b4d0-7453fcddc7cd",
   "metadata": {},
   "source": [
    "Genetic Algorithm Exercise:\n",
    "Suppose we would like to find the x value that minimizes some unknown function f(x). We could use the following evolutionary algorithm to accomplish this:\n",
    "1. Initialize a population of N parents by randomly selecting values in the range of [-10, 10]. (e.g., x = rand(1)*10)\n",
    "2. Have each parent produce offspring via mutation. Have the mutation operator be: x(t+i) = x(i) + r where r ~ N(0; 1)\n",
    "3. Compute f(x) for each parent and each newly generated offspring\n",
    "4. Sort all current solutions according to f(x)\n",
    "5. Select 1/2 of the solutions with the lowest values of f(x) as the new parents\n",
    "6. Return to step 2 for N iterations\n",
    "\n",
    "Implement the above algorithm for $f(x)=x^{2}$\n",
    "\n",
    "Implement the above algorithm for $f(x)=20+\\sum^{2}_{i=1}x^{2}_{i}-10cos(2x_{i})$\n",
    "\n",
    "- Investigate how changing the variance of the Normal distribution in the mutation operator changes the speed to find the global optimum (within some threshold ). What happens when the variance is “too small?” What happens when the variance is “too large?”\n",
    "- Investigate how the selection operator changes results. Instead of selecting the solutions with the lowest f(x) value, select solutions uniformly at random. Also, try selecting solutions with a probability related to their current f(x) value by setting p(x)=1f(x)i1f(xi)\n",
    "- (Note: Mutation refers to the generation of offspring using only a single parent. Cross-over refers to the generation of offspring using two parents.)\n"
   ]
  },
  {
   "cell_type": "code",
   "execution_count": 88,
   "id": "9fdf1c93-0bcc-45d1-8c9b-8c09ecd132b2",
   "metadata": {},
   "outputs": [],
   "source": [
    "import random\n",
    "import numpy as np\n",
    "import pandas as pd\n",
    "\n",
    "\n",
    "\n",
    "def genPop(N):\n",
    "    #np.random.seed(42)\n",
    "    return np.random.uniform(-10, 10, N)\n",
    "    \n",
    "def mutate(pop):\n",
    "    #np.random.seed(42)\n",
    "    rand = np.random.normal(0, 3, len(pop))\n",
    "    return np.hstack((pop, pop + rand))\n",
    "\n",
    "def square(val):\n",
    "    return np.power(val, 2)\n",
    "\n",
    "def equation(val):\n",
    "    summation = 0\n",
    "    for i in range(1,3):\n",
    "        summation += np.power(val, 2) - 10*np.cos(2*np.pi)\n",
    "    return 20 + summation\n",
    "\n",
    "veq = np.vectorize(equation)\n",
    "vsq = np.vectorize(square)\n",
    "\n",
    "def findSmallest(val, res):\n",
    "    dataset = pd.DataFrame({'x': val, 'res': res})\n",
    "    dataset = dataset.sort_values(by=\"res\", ascending=True)\n",
    "    return dataset[\"x\"].to_numpy()\n",
    "    \n",
    "\n",
    "def findMin(popSize, iterations, equation):\n",
    "    pop = genPop(popSize)\n",
    "    for i in range(0, iterations):\n",
    "        offspring = mutate(pop)\n",
    "        #print(offspring.shape)\n",
    "        pop = sorted(offspring, key=equation)\n",
    "        pop = pop[:len(pop)//2]\n",
    "        res = equation(pop)\n",
    "        print(res.sum()/len(res))\n",
    "    return pop"
   ]
  },
  {
   "cell_type": "code",
   "execution_count": 90,
   "id": "64d61c62-8dce-48f8-880d-7869b28298dd",
   "metadata": {},
   "outputs": [
    {
     "name": "stdout",
     "output_type": "stream",
     "text": [
      "8.71367942957854\n",
      "2.459216832512635\n",
      "0.9780184626828606\n",
      "0.4649883688305795\n",
      "0.27280206112534733\n",
      "0.1748880244915811\n",
      "0.12646219827554553\n",
      "0.09412554939804749\n",
      "0.07438589923094108\n",
      "0.05823896259565574\n",
      "0.04789535177213045\n",
      "0.03877729481790521\n",
      "0.0318723421127682\n",
      "0.027181802259454678\n",
      "0.024169184160414837\n"
     ]
    }
   ],
   "source": [
    "res = findMin(1000, 15, vsq)"
   ]
  },
  {
   "cell_type": "code",
   "execution_count": 36,
   "id": "6d5fd441-24f4-4f52-9da0-2d0950cde925",
   "metadata": {},
   "outputs": [
    {
     "data": {
      "text/plain": [
       "array([1.4008381])"
      ]
     },
     "execution_count": 36,
     "metadata": {},
     "output_type": "execute_result"
    }
   ],
   "source": [
    "res"
   ]
  },
  {
   "cell_type": "markdown",
   "id": "a6b7ac6a-30bc-4829-9dd6-1e812a4baff5",
   "metadata": {},
   "source": [
    "- Investigate how changing the variance of the Normal distribution in the mutation operator changes the speed to find the global optimum (within some threshold ). What happens when the variance is “too small?” What happens when the variance is “too large?”\n",
    "\n",
    "If the variance is too small, the approach slowly converges but if the equation has multiple minimums it may get stuck. If the variance is too large, the approach converges very slowly or may not even converge at all as there is much more noise in the mutations.\n",
    "\n",
    "- Investigate how the selection operator changes results. Instead of selecting the solutions with the lowest f(x) value, select solutions uniformly at random. \n",
    "\n",
    "By selecting the solutions uniformly at random, this causes the results to not converge as the act of sorting drives the results to be minimized and selecting by random doesn't guarantee that this approach would converge.\n",
    "\n",
    "- Also, try selecting solutions with a probability related to their current f(x) value by setting p(x)=1f(x)i1f(xi)\n",
    "\n"
   ]
  },
  {
   "cell_type": "code",
   "execution_count": null,
   "id": "27d6d90b-d15e-45f4-a59f-c0d401081f89",
   "metadata": {},
   "outputs": [],
   "source": []
  }
 ],
 "metadata": {
  "kernelspec": {
   "display_name": "UFRC Python-3.8",
   "language": "python",
   "name": "python3-3.8-ufrc"
  },
  "language_info": {
   "codemirror_mode": {
    "name": "ipython",
    "version": 3
   },
   "file_extension": ".py",
   "mimetype": "text/x-python",
   "name": "python",
   "nbconvert_exporter": "python",
   "pygments_lexer": "ipython3",
   "version": "3.8.5"
  }
 },
 "nbformat": 4,
 "nbformat_minor": 5
}

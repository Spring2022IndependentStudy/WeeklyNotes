{
 "cells": [
  {
   "cell_type": "code",
   "execution_count": 1,
   "id": "8d499b72-1a39-48b2-a887-351a287d1b41",
   "metadata": {},
   "outputs": [],
   "source": [
    "# Load in tensorboard extension\n",
    "%load_ext tensorboard\n",
    "import tensorflow as tf\n",
    "import datetime"
   ]
  },
  {
   "cell_type": "code",
   "execution_count": 2,
   "id": "40ade431-ec94-4e93-ae52-1d11082a1583",
   "metadata": {},
   "outputs": [],
   "source": [
    "mnist = tf.keras.datasets.mnist\n",
    "\n",
    "(x_train, y_train),(x_test, y_test) = mnist.load_data()\n",
    "x_train, x_test = x_train / 255.0, x_test / 255.0\n",
    "\n",
    "def create_model():\n",
    "  return tf.keras.models.Sequential([\n",
    "    tf.keras.layers.Flatten(input_shape=(28, 28)),\n",
    "    tf.keras.layers.Dense(512, activation='relu'),\n",
    "    tf.keras.layers.Dropout(0.2),\n",
    "    tf.keras.layers.Dense(10, activation='softmax')\n",
    "  ])"
   ]
  },
  {
   "cell_type": "code",
   "execution_count": 3,
   "id": "ed476012-8aff-433f-95ce-12719c975e9f",
   "metadata": {},
   "outputs": [
    {
     "name": "stderr",
     "output_type": "stream",
     "text": [
      "2022-02-14 19:19:24.831610: I tensorflow/core/platform/cpu_feature_guard.cc:142] This TensorFlow binary is optimized with oneAPI Deep Neural Network Library (oneDNN) to use the following CPU instructions in performance-critical operations:  SSE4.1 SSE4.2 AVX AVX2 FMA\n",
      "To enable them in other operations, rebuild TensorFlow with the appropriate compiler flags.\n",
      "2022-02-14 19:19:25.372425: I tensorflow/core/common_runtime/gpu/gpu_device.cc:1510] Created device /job:localhost/replica:0/task:0/device:GPU:0 with 79125 MB memory:  -> device: 0, name: NVIDIA A100-SXM4-80GB, pci bus id: 0000:0f:00.0, compute capability: 8.0\n",
      "2022-02-14 19:19:26.075555: I tensorflow/core/profiler/lib/profiler_session.cc:131] Profiler session initializing.\n",
      "2022-02-14 19:19:26.075591: I tensorflow/core/profiler/lib/profiler_session.cc:146] Profiler session started.\n",
      "2022-02-14 19:19:26.075617: I tensorflow/core/profiler/internal/gpu/cupti_tracer.cc:1614] Profiler found 1 GPUs\n",
      "2022-02-14 19:19:26.076865: W tensorflow/stream_executor/platform/default/dso_loader.cc:64] Could not load dynamic library 'libcupti.so.11.2'; dlerror: libcupti.so.11.2: cannot open shared object file: No such file or directory; LD_LIBRARY_PATH: /opt/slurm/lib64:/opt/slurm/lib64:\n",
      "2022-02-14 19:19:26.206241: I tensorflow/core/profiler/lib/profiler_session.cc:164] Profiler session tear down.\n",
      "2022-02-14 19:19:26.206527: I tensorflow/core/profiler/internal/gpu/cupti_tracer.cc:1748] CUPTI activity buffer flushed\n",
      "2022-02-14 19:19:26.834927: I tensorflow/compiler/mlir/mlir_graph_optimization_pass.cc:185] None of the MLIR Optimization Passes are enabled (registered 2)\n"
     ]
    },
    {
     "name": "stdout",
     "output_type": "stream",
     "text": [
      "Epoch 1/5\n",
      "   1/1875 [..............................] - ETA: 32:01 - loss: 2.2251 - accuracy: 0.2812"
     ]
    },
    {
     "name": "stderr",
     "output_type": "stream",
     "text": [
      "2022-02-14 19:19:27.872289: I tensorflow/stream_executor/cuda/cuda_blas.cc:1760] TensorFloat-32 will be used for the matrix multiplication. This will only be logged once.\n",
      "2022-02-14 19:19:27.878891: I tensorflow/core/profiler/lib/profiler_session.cc:131] Profiler session initializing.\n",
      "2022-02-14 19:19:27.878921: I tensorflow/core/profiler/lib/profiler_session.cc:146] Profiler session started.\n"
     ]
    },
    {
     "name": "stdout",
     "output_type": "stream",
     "text": [
      " 150/1875 [=>............................] - ETA: 4s - loss: 0.5957 - accuracy: 0.8294"
     ]
    },
    {
     "name": "stderr",
     "output_type": "stream",
     "text": [
      "2022-02-14 19:19:28.085993: I tensorflow/core/profiler/lib/profiler_session.cc:66] Profiler session collecting data.\n",
      "2022-02-14 19:19:28.098655: I tensorflow/core/profiler/internal/gpu/cupti_tracer.cc:1748] CUPTI activity buffer flushed\n",
      "2022-02-14 19:19:28.114729: I tensorflow/core/profiler/internal/gpu/cupti_collector.cc:673]  GpuTracer has collected 68 callback api events and 65 activity events. \n",
      "2022-02-14 19:19:28.117428: I tensorflow/core/profiler/lib/profiler_session.cc:164] Profiler session tear down.\n",
      "2022-02-14 19:19:28.121599: I tensorflow/core/profiler/rpc/client/save_profile.cc:136] Creating directory: logs/fit/20220214-191926/train/plugins/profile/2022_02_14_19_19_28\n",
      "\n",
      "2022-02-14 19:19:28.123834: I tensorflow/core/profiler/rpc/client/save_profile.cc:142] Dumped gzipped tool data for trace.json.gz to logs/fit/20220214-191926/train/plugins/profile/2022_02_14_19_19_28/c1000a-s23.ufhpc.trace.json.gz\n",
      "2022-02-14 19:19:28.127356: I tensorflow/core/profiler/rpc/client/save_profile.cc:136] Creating directory: logs/fit/20220214-191926/train/plugins/profile/2022_02_14_19_19_28\n",
      "\n",
      "2022-02-14 19:19:28.128421: I tensorflow/core/profiler/rpc/client/save_profile.cc:142] Dumped gzipped tool data for memory_profile.json.gz to logs/fit/20220214-191926/train/plugins/profile/2022_02_14_19_19_28/c1000a-s23.ufhpc.memory_profile.json.gz\n",
      "2022-02-14 19:19:28.132840: I tensorflow/core/profiler/rpc/client/capture_profile.cc:251] Creating directory: logs/fit/20220214-191926/train/plugins/profile/2022_02_14_19_19_28\n",
      "Dumped tool data for xplane.pb to logs/fit/20220214-191926/train/plugins/profile/2022_02_14_19_19_28/c1000a-s23.ufhpc.xplane.pb\n",
      "Dumped tool data for overview_page.pb to logs/fit/20220214-191926/train/plugins/profile/2022_02_14_19_19_28/c1000a-s23.ufhpc.overview_page.pb\n",
      "Dumped tool data for input_pipeline.pb to logs/fit/20220214-191926/train/plugins/profile/2022_02_14_19_19_28/c1000a-s23.ufhpc.input_pipeline.pb\n",
      "Dumped tool data for tensorflow_stats.pb to logs/fit/20220214-191926/train/plugins/profile/2022_02_14_19_19_28/c1000a-s23.ufhpc.tensorflow_stats.pb\n",
      "Dumped tool data for kernel_stats.pb to logs/fit/20220214-191926/train/plugins/profile/2022_02_14_19_19_28/c1000a-s23.ufhpc.kernel_stats.pb\n",
      "\n"
     ]
    },
    {
     "name": "stdout",
     "output_type": "stream",
     "text": [
      "1875/1875 [==============================] - 4s 1ms/step - loss: 0.2177 - accuracy: 0.9355 - val_loss: 0.1099 - val_accuracy: 0.9637\n",
      "Epoch 2/5\n",
      "1875/1875 [==============================] - 2s 1ms/step - loss: 0.0956 - accuracy: 0.9710 - val_loss: 0.0798 - val_accuracy: 0.9741\n",
      "Epoch 3/5\n",
      "1875/1875 [==============================] - 2s 1ms/step - loss: 0.0690 - accuracy: 0.9785 - val_loss: 0.0794 - val_accuracy: 0.9759\n",
      "Epoch 4/5\n",
      "1875/1875 [==============================] - 2s 1ms/step - loss: 0.0533 - accuracy: 0.9830 - val_loss: 0.0590 - val_accuracy: 0.9817\n",
      "Epoch 5/5\n",
      "1875/1875 [==============================] - 2s 1ms/step - loss: 0.0420 - accuracy: 0.9861 - val_loss: 0.0719 - val_accuracy: 0.9777\n"
     ]
    },
    {
     "data": {
      "text/plain": [
       "<keras.callbacks.History at 0x2b157fd2ad60>"
      ]
     },
     "execution_count": 3,
     "metadata": {},
     "output_type": "execute_result"
    }
   ],
   "source": [
    "model = create_model()\n",
    "model.compile(optimizer='adam',\n",
    "              loss='sparse_categorical_crossentropy',\n",
    "              metrics=['accuracy'])\n",
    "\n",
    "# Create directory so tensorflow can store train data\n",
    "log_dir = \"logs/fit/\" + datetime.datetime.now().strftime(\"%Y%m%d-%H%M%S\")\n",
    "\n",
    "# Initialize a TensorBoard callback to connect your model to Tensorboard\n",
    "tensorboard_callback = tf.keras.callbacks.TensorBoard(log_dir=log_dir, histogram_freq=1)\n",
    "\n",
    "model.fit(x=x_train, \n",
    "          y=y_train, \n",
    "          epochs=5, \n",
    "          validation_data=(x_test, y_test), \n",
    "          callbacks=[tensorboard_callback])"
   ]
  },
  {
   "cell_type": "code",
   "execution_count": 4,
   "id": "d7a9f339-c22a-46db-ae28-60833c10bd81",
   "metadata": {},
   "outputs": [
    {
     "data": {
      "text/html": [
       "\n",
       "      <iframe id=\"tensorboard-frame-c2306305728be886\" width=\"100%\" height=\"800\" frameborder=\"0\">\n",
       "      </iframe>\n",
       "      <script>\n",
       "        (function() {\n",
       "          const frame = document.getElementById(\"tensorboard-frame-c2306305728be886\");\n",
       "          const url = new URL(\"/\", window.location);\n",
       "          const port = 6006;\n",
       "          if (port) {\n",
       "            url.port = port;\n",
       "          }\n",
       "          frame.src = url;\n",
       "        })();\n",
       "      </script>\n",
       "    "
      ],
      "text/plain": [
       "<IPython.core.display.HTML object>"
      ]
     },
     "metadata": {},
     "output_type": "display_data"
    }
   ],
   "source": [
    "%tensorboard --logdir logs/fit"
   ]
  },
  {
   "cell_type": "code",
   "execution_count": null,
   "id": "72e22e4d-0f52-45c4-a6f9-139df5f11303",
   "metadata": {},
   "outputs": [],
   "source": []
  }
 ],
 "metadata": {
  "kernelspec": {
   "display_name": "Tensorflow-2.6.0",
   "language": "python",
   "name": "tensorflow-2.6.0"
  },
  "language_info": {
   "codemirror_mode": {
    "name": "ipython",
    "version": 3
   },
   "file_extension": ".py",
   "mimetype": "text/x-python",
   "name": "python",
   "nbconvert_exporter": "python",
   "pygments_lexer": "ipython3",
   "version": "3.9.7"
  }
 },
 "nbformat": 4,
 "nbformat_minor": 5
}
